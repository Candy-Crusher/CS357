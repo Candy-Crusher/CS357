{
 "cells": [
  {
   "cell_type": "code",
   "execution_count": 5,
   "id": "ac5bfa29",
   "metadata": {},
   "outputs": [
    {
     "name": "stdout",
     "output_type": "stream",
     "text": [
      "9\n",
      "0\n",
      "7\n",
      "6\n",
      "9\n",
      "0\n",
      "7\n",
      "6\n"
     ]
    }
   ],
   "source": [
    "# HW 7.2\n",
    "a = 7\n",
    "c = 7\n",
    "m = 10\n",
    "s = 7\n",
    "x = []\n",
    "x.append(s)\n",
    "for i in range(8):\n",
    "    x.append((a*x[-1]+c)%m)\n",
    "    print((a*x[-1]+c)%m)"
   ]
  },
  {
   "cell_type": "code",
   "execution_count": 11,
   "id": "a62767f3",
   "metadata": {},
   "outputs": [
    {
     "name": "stdout",
     "output_type": "stream",
     "text": [
      "True False False False\n"
     ]
    }
   ],
   "source": [
    "# HW 7.5\n",
    "import math\n",
    "def check(x, y, z):\n",
    "    if x<0 or x>1 or y<0 or y>1 or z<0 or z>1: \n",
    "        return False\n",
    "    if x**2 + math.sin(y) - z > 0:\n",
    "        return False\n",
    "    if x - z + math.exp(y) - 1 > 0:\n",
    "        return False\n",
    "    return True\n",
    "print(check(0, 0, 1), check(0,math.pi/2,1),check(0.5,math.pi/8,0.2),check(0.1,0.3,0.4))"
   ]
  },
  {
   "cell_type": "code",
   "execution_count": 17,
   "id": "9cb245c8",
   "metadata": {},
   "outputs": [
    {
     "name": "stdout",
     "output_type": "stream",
     "text": [
      "2.529822128134703\n",
      "10.529822128134704 5.470177871865297\n"
     ]
    }
   ],
   "source": [
    "# HW 7.7\n",
    "err1 = 8\n",
    "n1 = 100000\n",
    "n2 = 10000\n",
    "err2 = err1 /math.sqrt(n1) * math.sqrt(n2)\n",
    "print(err2)\n",
    "up = err1 + err2\n",
    "low = err1 - err2\n",
    "print(up, low)"
   ]
  },
  {
   "cell_type": "code",
   "execution_count": 22,
   "id": "98737f01",
   "metadata": {},
   "outputs": [
    {
     "name": "stdout",
     "output_type": "stream",
     "text": [
      "1000000000000.0\n"
     ]
    }
   ],
   "source": [
    "# HW 7.8\n",
    "n1 = 10000\n",
    "e1 = 10e-1\n",
    "e2 = 10e-5\n",
    "n2 = (math.sqrt(n1)*e1/e2)**2\n",
    "print(n2)"
   ]
  },
  {
   "cell_type": "code",
   "execution_count": 23,
   "id": "5de3fdf0",
   "metadata": {},
   "outputs": [],
   "source": [
    "# HW 7.9\n",
    "import numpy as np\n",
    "import matplotlib.pyplot as plt\n",
    "def calculate_pi(xs, ys):\n",
    "    r = np.sqrt(xs**2+ys**2)\n",
    "    incircle = (r <= 1)\n",
    "    count_incircle = incircle.sum()\n",
    "    pai = count_incircle/len(xs)*4\n",
    "    return pai\n",
    "pi = np.zeros(7)\n",
    "N_sample = np.zeros(7)\n",
    "for i in range(7):\n",
    "    N_sample[i] = 10**i\n",
    "    pi[i] = calculate_pi(xs[:10**i], ys[:10**i])\n",
    "plt.loglog(N_sample, abs(pi-np.pi), '.')\n",
    "plt.xlabel('n')\n",
    "plt.ylabel('error')\n",
    "plt.title('loglog n vs error')\n"
   ]
  },
  {
   "cell_type": "code",
   "execution_count": 29,
   "id": "fa2e1289",
   "metadata": {},
   "outputs": [
    {
     "data": {
      "image/png": "[encoded data removed]",
      "text/plain": [
       "<Figure size 432x288 with 1 Axes>"
      ]
     },
     "metadata": {
      "needs_background": "light"
     },
     "output_type": "display_data"
    }
   ],
   "source": [
    "# HW 7.10\n",
    "import numpy as np\n",
    "import matplotlib\n",
    "import matplotlib.pyplot as plt\n",
    "\n",
    "def genroom(n):\n",
    "    return np.random.randint(1,366, n)\n",
    "\n",
    "# Generate 1000 simulations of rooms (with the birthdays of n people in each room)\n",
    "# Compute the number of rooms with duplicate birthdays.\n",
    "# Returns the number of rooms with duplicate birthdays\n",
    "def duplicate_birthdays(n):\n",
    "    if n > 365:\n",
    "        return 1000\n",
    "    dup_room = 0\n",
    "    for i in range(1000):\n",
    "        dup = False\n",
    "        mylist= genroom(n).tolist()\n",
    "        for i in range(len(mylist)):\n",
    "            if mylist.count(mylist[i]) > 1:\n",
    "                dup = True\n",
    "                break\n",
    "        if dup:\n",
    "            dup_room += 1\n",
    "    return dup_room\n",
    "\n",
    "# Part 1\n",
    "prob_n = np.zeros(99)\n",
    "for n in range(2, 101):\n",
    "    prob_n[n-2] = duplicate_birthdays(n)/1000\n",
    "    # call function duplicate_birthdays(n)\n",
    "    # update the array prob_n\n",
    "\n",
    "# Part 2\n",
    "# Estimate perc_50\n",
    "n = 0\n",
    "while True:\n",
    "    if prob_n[n] > 0.5:\n",
    "        break\n",
    "    n += 1\n",
    "perc_50 = n + 2\n",
    "\n",
    "# Part 3\n",
    "# Plot prob_n\n",
    "n = np.arange(2, 101)\n",
    "plt.plot(n, prob_n)\n",
    "plt.xlabel('n')\n",
    "plt.ylabel('prob_n')\n",
    "plt.title('prob_n vs n')\n",
    "\n",
    "# Save plot for grading\n",
    "plot = plt.gca()"
   ]
  },
  {
   "cell_type": "code",
   "execution_count": 33,
   "id": "38ff5e69",
   "metadata": {},
   "outputs": [
    {
     "name": "stdout",
     "output_type": "stream",
     "text": [
      "5.32\n"
     ]
    }
   ],
   "source": [
    "# HW 7.11\n",
    "import numpy as np\n",
    "\n",
    "## Part 1\n",
    "\n",
    "def insideCylinders(pos,r):\n",
    "    x, y, z = pos\n",
    "    if np.sqrt(y**2+z**2) <= r and np.sqrt(y**2+x**2) <= r:\n",
    "    # Return true if the point is inside the Steinmetz solid\n",
    "    # write some code here\n",
    "        return True\n",
    "    return False\n",
    "\n",
    "## Part 2\n",
    "\n",
    "def prob_inside_volume(N,r):\n",
    "    points = np.random.rand(N, 3) * 2 * r - r\n",
    "    # Calculate the probability that any point is inside the Steinmetz solid\n",
    "    sum = 0\n",
    "    for i in range(N):\n",
    "        if insideCylinders(points[i], r):\n",
    "            sum += 1\n",
    "    return sum/N\n",
    "\n",
    "## Part 3\n",
    "N = 1000\n",
    "r = 1\n",
    "volume_approx = prob_inside_volume(N,r)*(2*r)**3\n",
    "print(volume_approx)\n",
    "# Determine approximated volume"
   ]
  },
  {
   "cell_type": "code",
   "execution_count": null,
   "id": "fe134f6e",
   "metadata": {},
   "outputs": [],
   "source": []
  }
 ],
 "metadata": {
  "kernelspec": {
   "display_name": "Python 3 (ipykernel)",
   "language": "python",
   "name": "python3"
  },
  "language_info": {
   "codemirror_mode": {
    "name": "ipython",
    "version": 3
   },
   "file_extension": ".py",
   "mimetype": "text/x-python",
   "name": "python",
   "nbconvert_exporter": "python",
   "pygments_lexer": "ipython3",
   "version": "3.8.8"
  }
 },
 "nbformat": 4,
 "nbformat_minor": 5
}
