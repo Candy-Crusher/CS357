{
 "cells": [
  {
   "cell_type": "code",
   "execution_count": 11,
   "id": "0415f414",
   "metadata": {},
   "outputs": [
    {
     "name": "stdout",
     "output_type": "stream",
     "text": [
      "The estimate value is: -0.48000000000000004 \n",
      "The abs_error is:  0.0308256237659907 \n",
      "The rel_error is:  -0.0603447092938155\n"
     ]
    }
   ],
   "source": [
    "# L6.7\n",
    "from sympy import *\n",
    "import numpy as np\n",
    "sum = 0\n",
    "x = symbols('x')\n",
    "g = log(1+x)\n",
    "y = -0.4\n",
    "center = 0\n",
    "degree = 2\n",
    "for i in range(degree+1):\n",
    "    z = diff(g,x,i)\n",
    "    d = float(z.evalf(subs={x:center}))\n",
    "    sum +=  d * (y - center) ** i / np.math.factorial(i)\n",
    "abs_error = np.abs(sum - g.evalf(subs={x:y}))\n",
    "rel_error = abs_error / g.evalf(subs={x:y})\n",
    "print(\"The estimate value is:\", sum, \"\\nThe abs_error is: \", abs_error, \"\\nThe rel_error is: \", rel_error)"
   ]
  },
  {
   "cell_type": "code",
   "execution_count": 15,
   "id": "e48915d3",
   "metadata": {},
   "outputs": [
    {
     "name": "stdout",
     "output_type": "stream",
     "text": [
      "When x is:  0 \n",
      "Taylor series is:  exp(x) \n",
      "\n",
      "When x is:  1 \n",
      "Taylor series is:  x*exp(x) + exp(x) \n",
      "\n",
      "When x is:  2 \n",
      "Taylor series is:  x**2*exp(x)/2 + x*exp(x) + exp(x) \n",
      "\n",
      "The remainder is:  -41.5981500331442\n"
     ]
    }
   ],
   "source": [
    "# L6.8\n",
    "from sympy import *\n",
    "sum = 0\n",
    "taylor = 0\n",
    "x = symbols('x')\n",
    "g = exp(x)\n",
    "y = 4\n",
    "center = 0\n",
    "degree = 2\n",
    "for i in range(degree+1):\n",
    "    z = diff(g,x,i)\n",
    "    taylor += z*(x - center) ** i / np.math.factorial(i)\n",
    "    print(\"When i is: \", i, \"\\nTaylor series is: \", taylor, \"\\n\")\n",
    "    d = float(z.evalf(subs={x:center}))\n",
    "    sum +=  d * (y - center) ** i / np.math.factorial(i)\n",
    "remainder = sum - g.evalf(subs={x:y})\n",
    "print(\"The remainder is: \", remainder)"
   ]
  },
  {
   "cell_type": "code",
   "execution_count": 24,
   "id": "8a00d6c1",
   "metadata": {},
   "outputs": [
    {
     "data": {
      "image/png": "[encoded data removed]",
      "text/plain": [
       "<Figure size 432x288 with 1 Axes>"
      ]
     },
     "metadata": {
      "needs_background": "light"
     },
     "output_type": "display_data"
    }
   ],
   "source": [
    "# HW 6.9\n",
    "import numpy as np\n",
    "import matplotlib.pyplot as plt\n",
    "from sympy import *\n",
    "\n",
    "exp_approx = np.zeros(10)\n",
    "abs_error = np.zeros(10)\n",
    "rel_error = np.zeros(10)\n",
    "N_cutoff = 0\n",
    "N = np.arange(10)\n",
    "\n",
    "g = exp(x)\n",
    "degree = 9\n",
    "approx = 0\n",
    "flag = 0\n",
    "for i in range(degree+1):\n",
    "    approx += x ** i / np.math.factorial(i)\n",
    "    exp_approx[i] = approx\n",
    "    abs_error[i] = abs(approx - g)\n",
    "    rel_error[i] = abs(approx - g)/g\n",
    "    if rel_error[i] <= desired_rel_error and flag == 0:\n",
    "        N_cutoff = i\n",
    "        flag = 1\n",
    "        \n",
    "# Save plot for grading\n",
    "plot = plt.gca()\n",
    "plt.semilogy(N, rel_error) \n",
    "plt.xlim([0, 10]) \n",
    "  \n",
    "# Provide the title for the semilogy plot \n",
    "plt.title('relative error vs. N') \n",
    "  \n",
    "# Give x axis label for the semilogy plot \n",
    "plt.xlabel('N') \n",
    "  \n",
    "# Give y axis label for the semilogy plot \n",
    "plt.ylabel('rel_error') \n",
    "  \n",
    "# Display the semilogy plot \n",
    "plt.show()"
   ]
  },
  {
   "cell_type": "code",
   "execution_count": 65,
   "id": "e6a4bb52",
   "metadata": {},
   "outputs": [
    {
     "name": "stdout",
     "output_type": "stream",
     "text": [
      "The estimate value is: 0.7 \n",
      "The abs_error is:  0.0557823127623089 \n",
      "The rel_error is:  0.0865892288699727\n",
      "The estimate value is: 0.6428333333333333 \n",
      "The abs_error is:  0.00138435390435776 \n",
      "The rel_error is:  0.00214889148774176\n",
      "The estimate value is: 0.6442161473816557 \n",
      "The abs_error is:  1.53985603534856e-6 \n",
      "The rel_error is:  2.39027283145738e-6\n"
     ]
    }
   ],
   "source": [
    "# HW 6.10\n",
    "from sympy import *\n",
    "import numpy as np\n",
    "import math\n",
    "x = symbols('x')\n",
    "g = sin(x)\n",
    "y = 0.7\n",
    "center = [0, 0, math.pi/4]\n",
    "degree = [1, 3, 3]\n",
    "error = []\n",
    "for j in range(3):\n",
    "    sum = 0\n",
    "    for i in range(degree[j]+1):\n",
    "        z = diff(g,x,i)\n",
    "        d = float(z.evalf(subs={x:center[j]}))\n",
    "        sum +=  d * (y - center[j]) ** i / np.math.factorial(i)\n",
    "    abs_error = np.abs(sum - g.evalf(subs={x:y}))\n",
    "    rel_error = abs_error / g.evalf(subs={x:y})\n",
    "    print(\"The estimate value is:\", sum, \"\\nThe abs_error is: \", abs_error, \"\\nThe rel_error is: \", rel_error)\n",
    "    error.append(rel_error)\n",
    "err_0_1 = error[0]\n",
    "err_0_3 = error[1]\n",
    "err_pi4_3 = error[2]"
   ]
  },
  {
   "cell_type": "code",
   "execution_count": null,
   "id": "a4c190f0",
   "metadata": {},
   "outputs": [],
   "source": []
  }
 ],
 "metadata": {
  "kernelspec": {
   "display_name": "Python 3 (ipykernel)",
   "language": "python",
   "name": "python3"
  },
  "language_info": {
   "codemirror_mode": {
    "name": "ipython",
    "version": 3
   },
   "file_extension": ".py",
   "mimetype": "text/x-python",
   "name": "python",
   "nbconvert_exporter": "python",
   "pygments_lexer": "ipython3",
   "version": "3.8.8"
  }
 },
 "nbformat": 4,
 "nbformat_minor": 5
}
